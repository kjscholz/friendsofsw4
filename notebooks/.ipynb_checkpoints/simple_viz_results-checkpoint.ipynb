{
 "cells": [
  {
   "cell_type": "code",
   "execution_count": 2,
   "id": "f958faae-66ba-4f93-a8fc-90c813b2aeea",
   "metadata": {},
   "outputs": [],
   "source": [
    "import pandas as pd\n",
    "import matplotlib.pyplot as plt"
   ]
  },
  {
   "cell_type": "markdown",
   "id": "019a1a83-7631-4909-869d-fd5fb32cd7df",
   "metadata": {},
   "source": [
    "# read result file (the .txt)\n",
    "\n",
    "reading using pandas"
   ]
  },
  {
   "cell_type": "code",
   "execution_count": 3,
   "id": "c54fdd6a-608d-4e5b-a70c-12b791f4e2e6",
   "metadata": {},
   "outputs": [],
   "source": [
    "file_path = \"./submit_files/LOH.1-h50_perso.out/sta01.txt\""
   ]
  },
  {
   "cell_type": "code",
   "execution_count": 4,
   "id": "62d301b9-4635-4234-a524-5b16436f2425",
   "metadata": {},
   "outputs": [],
   "source": [
    "df = pd.read_csv(file_path, delim_whitespace=True, comment='#', header=None)\n",
    "\n",
    "# Rename columns\n",
    "df.columns = ['Time (s)', 'East-west displacement (m)', 'North-south displacement (m)', 'Up-down displacement (m)']"
   ]
  },
  {
   "cell_type": "code",
   "execution_count": 5,
   "id": "e52a535a-9fca-4dbe-bb72-eb4e07a58c6e",
   "metadata": {},
   "outputs": [
    {
     "data": {
      "text/html": [
       "<div>\n",
       "<style scoped>\n",
       "    .dataframe tbody tr th:only-of-type {\n",
       "        vertical-align: middle;\n",
       "    }\n",
       "\n",
       "    .dataframe tbody tr th {\n",
       "        vertical-align: top;\n",
       "    }\n",
       "\n",
       "    .dataframe thead th {\n",
       "        text-align: right;\n",
       "    }\n",
       "</style>\n",
       "<table border=\"1\" class=\"dataframe\">\n",
       "  <thead>\n",
       "    <tr style=\"text-align: right;\">\n",
       "      <th></th>\n",
       "      <th>Time (s)</th>\n",
       "      <th>East-west displacement (m)</th>\n",
       "      <th>North-south displacement (m)</th>\n",
       "      <th>Up-down displacement (m)</th>\n",
       "    </tr>\n",
       "  </thead>\n",
       "  <tbody>\n",
       "    <tr>\n",
       "      <th>0</th>\n",
       "      <td>0.000000</td>\n",
       "      <td>0.000000</td>\n",
       "      <td>0.000000</td>\n",
       "      <td>0.000000</td>\n",
       "    </tr>\n",
       "    <tr>\n",
       "      <th>1</th>\n",
       "      <td>0.008388</td>\n",
       "      <td>0.000000</td>\n",
       "      <td>0.000000</td>\n",
       "      <td>0.000000</td>\n",
       "    </tr>\n",
       "    <tr>\n",
       "      <th>2</th>\n",
       "      <td>0.016775</td>\n",
       "      <td>0.000000</td>\n",
       "      <td>0.000000</td>\n",
       "      <td>0.000000</td>\n",
       "    </tr>\n",
       "    <tr>\n",
       "      <th>3</th>\n",
       "      <td>0.025163</td>\n",
       "      <td>0.000000</td>\n",
       "      <td>0.000000</td>\n",
       "      <td>0.000000</td>\n",
       "    </tr>\n",
       "    <tr>\n",
       "      <th>4</th>\n",
       "      <td>0.033551</td>\n",
       "      <td>0.000000</td>\n",
       "      <td>0.000000</td>\n",
       "      <td>0.000000</td>\n",
       "    </tr>\n",
       "    <tr>\n",
       "      <th>...</th>\n",
       "      <td>...</td>\n",
       "      <td>...</td>\n",
       "      <td>...</td>\n",
       "      <td>...</td>\n",
       "    </tr>\n",
       "    <tr>\n",
       "      <th>1069</th>\n",
       "      <td>8.966449</td>\n",
       "      <td>0.000978</td>\n",
       "      <td>0.000784</td>\n",
       "      <td>-0.000169</td>\n",
       "    </tr>\n",
       "    <tr>\n",
       "      <th>1070</th>\n",
       "      <td>8.974837</td>\n",
       "      <td>0.000975</td>\n",
       "      <td>0.000794</td>\n",
       "      <td>-0.000140</td>\n",
       "    </tr>\n",
       "    <tr>\n",
       "      <th>1071</th>\n",
       "      <td>8.983225</td>\n",
       "      <td>0.000964</td>\n",
       "      <td>0.000800</td>\n",
       "      <td>-0.000101</td>\n",
       "    </tr>\n",
       "    <tr>\n",
       "      <th>1072</th>\n",
       "      <td>8.991612</td>\n",
       "      <td>0.000940</td>\n",
       "      <td>0.000803</td>\n",
       "      <td>-0.000054</td>\n",
       "    </tr>\n",
       "    <tr>\n",
       "      <th>1073</th>\n",
       "      <td>9.000000</td>\n",
       "      <td>0.000906</td>\n",
       "      <td>0.000803</td>\n",
       "      <td>-0.000002</td>\n",
       "    </tr>\n",
       "  </tbody>\n",
       "</table>\n",
       "<p>1074 rows × 4 columns</p>\n",
       "</div>"
      ],
      "text/plain": [
       "      Time (s)  East-west displacement (m)  North-south displacement (m)  \\\n",
       "0     0.000000                    0.000000                      0.000000   \n",
       "1     0.008388                    0.000000                      0.000000   \n",
       "2     0.016775                    0.000000                      0.000000   \n",
       "3     0.025163                    0.000000                      0.000000   \n",
       "4     0.033551                    0.000000                      0.000000   \n",
       "...        ...                         ...                           ...   \n",
       "1069  8.966449                    0.000978                      0.000784   \n",
       "1070  8.974837                    0.000975                      0.000794   \n",
       "1071  8.983225                    0.000964                      0.000800   \n",
       "1072  8.991612                    0.000940                      0.000803   \n",
       "1073  9.000000                    0.000906                      0.000803   \n",
       "\n",
       "      Up-down displacement (m)  \n",
       "0                     0.000000  \n",
       "1                     0.000000  \n",
       "2                     0.000000  \n",
       "3                     0.000000  \n",
       "4                     0.000000  \n",
       "...                        ...  \n",
       "1069                 -0.000169  \n",
       "1070                 -0.000140  \n",
       "1071                 -0.000101  \n",
       "1072                 -0.000054  \n",
       "1073                 -0.000002  \n",
       "\n",
       "[1074 rows x 4 columns]"
      ]
     },
     "execution_count": 5,
     "metadata": {},
     "output_type": "execute_result"
    }
   ],
   "source": [
    "df"
   ]
  },
  {
   "cell_type": "markdown",
   "id": "5cbc7451-ad25-4751-99de-547326831d88",
   "metadata": {},
   "source": [
    "# basic plot of the displacements"
   ]
  },
  {
   "cell_type": "code",
   "execution_count": 6,
   "id": "6965bd68-5095-472a-bfc5-41f7f2f0f71a",
   "metadata": {},
   "outputs": [
    {
     "data": {
      "text/plain": [
       "Text(0.5, 1.0, 'Displacement over Time')"
      ]
     },
     "execution_count": 6,
     "metadata": {},
     "output_type": "execute_result"
    },
    {
     "data": {
      "image/png": "[encoded data removed]",
      "text/plain": [
       "<Figure size 640x480 with 1 Axes>"
      ]
     },
     "metadata": {},
     "output_type": "display_data"
    }
   ],
   "source": [
    "plt.plot(df['Time (s)'], df['East-west displacement (m)'], label='East-west displacement')\n",
    "plt.plot(df['Time (s)'], df['North-south displacement (m)'], label='North-south displacement')\n",
    "plt.plot(df['Time (s)'], df['Up-down displacement (m)'], label='Up-down displacement')\n",
    "\n",
    "# Add legends\n",
    "plt.legend()\n",
    "\n",
    "# Add labels and title if needed\n",
    "plt.xlabel('Time (s)')\n",
    "plt.ylabel('Displacement (m)')\n",
    "plt.title('Displacement over Time')"
   ]
  }
 ],
 "metadata": {
  "kernelspec": {
   "display_name": "Python 3 (ipykernel)",
   "language": "python",
   "name": "python3"
  },
  "language_info": {
   "codemirror_mode": {
    "name": "ipython",
    "version": 3
   },
   "file_extension": ".py",
   "mimetype": "text/x-python",
   "name": "python",
   "nbconvert_exporter": "python",
   "pygments_lexer": "ipython3",
   "version": "3.9.16"
  }
 },
 "nbformat": 4,
 "nbformat_minor": 5
}
